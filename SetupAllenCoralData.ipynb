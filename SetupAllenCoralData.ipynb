{
 "cells": [
  {
   "cell_type": "code",
   "execution_count": 1,
   "id": "ab8ea681",
   "metadata": {},
   "outputs": [],
   "source": [
    "import geopandas as gpd\n",
    "import pickle"
   ]
  },
  {
   "attachments": {},
   "cell_type": "markdown",
   "id": "1aeaa8ff",
   "metadata": {},
   "source": [
    "# Prepare Allen Coral Atlas File\n",
    "Using the benthic map file downloaded from allen coral atlas, this notebook prepares a pickle file to be used for pulling satellite data. The benthic map for a given region can be downloaded here: https://allencoralatlas.org/atlas"
   ]
  },
  {
   "cell_type": "code",
   "execution_count": 2,
   "id": "f96925bd",
   "metadata": {},
   "outputs": [
    {
     "data": {
      "text/html": [
       "<div>\n",
       "<style scoped>\n",
       "    .dataframe tbody tr th:only-of-type {\n",
       "        vertical-align: middle;\n",
       "    }\n",
       "\n",
       "    .dataframe tbody tr th {\n",
       "        vertical-align: top;\n",
       "    }\n",
       "\n",
       "    .dataframe thead th {\n",
       "        text-align: right;\n",
       "    }\n",
       "</style>\n",
       "<table border=\"1\" class=\"dataframe\">\n",
       "  <thead>\n",
       "    <tr style=\"text-align: right;\">\n",
       "      <th></th>\n",
       "      <th>class</th>\n",
       "      <th>geometry</th>\n",
       "    </tr>\n",
       "  </thead>\n",
       "  <tbody>\n",
       "    <tr>\n",
       "      <th>0</th>\n",
       "      <td>Coral/Algae</td>\n",
       "      <td>POLYGON ((-86.80897 20.97881, -86.80892 20.978...</td>\n",
       "    </tr>\n",
       "    <tr>\n",
       "      <th>1</th>\n",
       "      <td>Rubble</td>\n",
       "      <td>POLYGON ((-86.80739 20.97845, -86.80735 20.978...</td>\n",
       "    </tr>\n",
       "    <tr>\n",
       "      <th>2</th>\n",
       "      <td>Rubble</td>\n",
       "      <td>POLYGON ((-86.80874 20.97912, -86.80874 20.979...</td>\n",
       "    </tr>\n",
       "    <tr>\n",
       "      <th>3</th>\n",
       "      <td>Rubble</td>\n",
       "      <td>POLYGON ((-86.81004 20.97831, -86.80996 20.978...</td>\n",
       "    </tr>\n",
       "    <tr>\n",
       "      <th>4</th>\n",
       "      <td>Rubble</td>\n",
       "      <td>POLYGON ((-86.81094 20.97791, -86.81085 20.977...</td>\n",
       "    </tr>\n",
       "    <tr>\n",
       "      <th>...</th>\n",
       "      <td>...</td>\n",
       "      <td>...</td>\n",
       "    </tr>\n",
       "    <tr>\n",
       "      <th>859099</th>\n",
       "      <td>Seagrass</td>\n",
       "      <td>POLYGON ((-97.25076 21.50746, -97.25071 21.507...</td>\n",
       "    </tr>\n",
       "    <tr>\n",
       "      <th>859100</th>\n",
       "      <td>Seagrass</td>\n",
       "      <td>POLYGON ((-97.25206 21.50728, -97.25193 21.507...</td>\n",
       "    </tr>\n",
       "    <tr>\n",
       "      <th>859101</th>\n",
       "      <td>Rubble</td>\n",
       "      <td>POLYGON ((-97.25211 21.50688, -97.25197 21.506...</td>\n",
       "    </tr>\n",
       "    <tr>\n",
       "      <th>859102</th>\n",
       "      <td>Coral/Algae</td>\n",
       "      <td>POLYGON ((-97.24955 21.51227, -97.24955 21.512...</td>\n",
       "    </tr>\n",
       "    <tr>\n",
       "      <th>859103</th>\n",
       "      <td>Coral/Algae</td>\n",
       "      <td>POLYGON ((-97.25404 21.51824, -97.25386 21.518...</td>\n",
       "    </tr>\n",
       "  </tbody>\n",
       "</table>\n",
       "<p>859104 rows × 2 columns</p>\n",
       "</div>"
      ],
      "text/plain": [
       "              class                                           geometry\n",
       "0       Coral/Algae  POLYGON ((-86.80897 20.97881, -86.80892 20.978...\n",
       "1            Rubble  POLYGON ((-86.80739 20.97845, -86.80735 20.978...\n",
       "2            Rubble  POLYGON ((-86.80874 20.97912, -86.80874 20.979...\n",
       "3            Rubble  POLYGON ((-86.81004 20.97831, -86.80996 20.978...\n",
       "4            Rubble  POLYGON ((-86.81094 20.97791, -86.81085 20.977...\n",
       "...             ...                                                ...\n",
       "859099     Seagrass  POLYGON ((-97.25076 21.50746, -97.25071 21.507...\n",
       "859100     Seagrass  POLYGON ((-97.25206 21.50728, -97.25193 21.507...\n",
       "859101       Rubble  POLYGON ((-97.25211 21.50688, -97.25197 21.506...\n",
       "859102  Coral/Algae  POLYGON ((-97.24955 21.51227, -97.24955 21.512...\n",
       "859103  Coral/Algae  POLYGON ((-97.25404 21.51824, -97.25386 21.518...\n",
       "\n",
       "[859104 rows x 2 columns]"
      ]
     },
     "execution_count": 2,
     "metadata": {},
     "output_type": "execute_result"
    }
   ],
   "source": [
    "allen_coral_df = gpd.read_file(\"C:/Users/Danielle/Desktop/nasa-coral-health-observation/data/Benthic-Map/benthic.gpkg\")\n",
    "allen_coral_df"
   ]
  },
  {
   "cell_type": "markdown",
   "id": "8c003ffc",
   "metadata": {},
   "source": [
    "Create a centroid column from the bounding box provided in the geometry column."
   ]
  },
  {
   "cell_type": "code",
   "execution_count": 3,
   "id": "b7430c6a",
   "metadata": {},
   "outputs": [
    {
     "name": "stderr",
     "output_type": "stream",
     "text": [
      "C:\\Users\\Danielle\\AppData\\Local\\Temp\\ipykernel_44624\\2445519379.py:1: UserWarning: Geometry is in a geographic CRS. Results from 'centroid' are likely incorrect. Use 'GeoSeries.to_crs()' to re-project geometries to a projected CRS before this operation.\n",
      "\n",
      "  allen_coral_df['centroid_column'] = allen_coral_df.centroid\n"
     ]
    }
   ],
   "source": [
    "allen_coral_df['centroid_column'] = allen_coral_df.centroid"
   ]
  },
  {
   "cell_type": "markdown",
   "id": "4195b8ff",
   "metadata": {},
   "source": [
    "Extract longitude and latitude from each centroid."
   ]
  },
  {
   "cell_type": "code",
   "execution_count": 5,
   "id": "0ea28be1",
   "metadata": {},
   "outputs": [
    {
     "data": {
      "text/html": [
       "<div>\n",
       "<style scoped>\n",
       "    .dataframe tbody tr th:only-of-type {\n",
       "        vertical-align: middle;\n",
       "    }\n",
       "\n",
       "    .dataframe tbody tr th {\n",
       "        vertical-align: top;\n",
       "    }\n",
       "\n",
       "    .dataframe thead th {\n",
       "        text-align: right;\n",
       "    }\n",
       "</style>\n",
       "<table border=\"1\" class=\"dataframe\">\n",
       "  <thead>\n",
       "    <tr style=\"text-align: right;\">\n",
       "      <th></th>\n",
       "      <th>class</th>\n",
       "      <th>geometry</th>\n",
       "      <th>centroid_column</th>\n",
       "      <th>long</th>\n",
       "      <th>lat</th>\n",
       "    </tr>\n",
       "  </thead>\n",
       "  <tbody>\n",
       "    <tr>\n",
       "      <th>0</th>\n",
       "      <td>Coral/Algae</td>\n",
       "      <td>POLYGON ((-86.80897 20.97881, -86.80892 20.978...</td>\n",
       "      <td>POINT (-86.80888 20.97867)</td>\n",
       "      <td>-86.808880</td>\n",
       "      <td>20.978671</td>\n",
       "    </tr>\n",
       "    <tr>\n",
       "      <th>1</th>\n",
       "      <td>Rubble</td>\n",
       "      <td>POLYGON ((-86.80739 20.97845, -86.80735 20.978...</td>\n",
       "      <td>POINT (-86.80737 20.97842)</td>\n",
       "      <td>-86.807372</td>\n",
       "      <td>20.978424</td>\n",
       "    </tr>\n",
       "    <tr>\n",
       "      <th>2</th>\n",
       "      <td>Rubble</td>\n",
       "      <td>POLYGON ((-86.80874 20.97912, -86.80874 20.979...</td>\n",
       "      <td>POINT (-86.80884 20.97868)</td>\n",
       "      <td>-86.808843</td>\n",
       "      <td>20.978677</td>\n",
       "    </tr>\n",
       "    <tr>\n",
       "      <th>3</th>\n",
       "      <td>Rubble</td>\n",
       "      <td>POLYGON ((-86.81004 20.97831, -86.80996 20.978...</td>\n",
       "      <td>POINT (-86.80993 20.97817)</td>\n",
       "      <td>-86.809931</td>\n",
       "      <td>20.978174</td>\n",
       "    </tr>\n",
       "    <tr>\n",
       "      <th>4</th>\n",
       "      <td>Rubble</td>\n",
       "      <td>POLYGON ((-86.81094 20.97791, -86.81085 20.977...</td>\n",
       "      <td>POINT (-86.81091 20.97784)</td>\n",
       "      <td>-86.810908</td>\n",
       "      <td>20.977840</td>\n",
       "    </tr>\n",
       "    <tr>\n",
       "      <th>...</th>\n",
       "      <td>...</td>\n",
       "      <td>...</td>\n",
       "      <td>...</td>\n",
       "      <td>...</td>\n",
       "      <td>...</td>\n",
       "    </tr>\n",
       "    <tr>\n",
       "      <th>859099</th>\n",
       "      <td>Seagrass</td>\n",
       "      <td>POLYGON ((-97.25076 21.50746, -97.25071 21.507...</td>\n",
       "      <td>POINT (-97.25074 21.50744)</td>\n",
       "      <td>-97.250737</td>\n",
       "      <td>21.507442</td>\n",
       "    </tr>\n",
       "    <tr>\n",
       "      <th>859100</th>\n",
       "      <td>Seagrass</td>\n",
       "      <td>POLYGON ((-97.25206 21.50728, -97.25193 21.507...</td>\n",
       "      <td>POINT (-97.25185 21.50704)</td>\n",
       "      <td>-97.251850</td>\n",
       "      <td>21.507038</td>\n",
       "    </tr>\n",
       "    <tr>\n",
       "      <th>859101</th>\n",
       "      <td>Rubble</td>\n",
       "      <td>POLYGON ((-97.25211 21.50688, -97.25197 21.506...</td>\n",
       "      <td>POINT (-97.25198 21.50674)</td>\n",
       "      <td>-97.251982</td>\n",
       "      <td>21.506739</td>\n",
       "    </tr>\n",
       "    <tr>\n",
       "      <th>859102</th>\n",
       "      <td>Coral/Algae</td>\n",
       "      <td>POLYGON ((-97.24955 21.51227, -97.24955 21.512...</td>\n",
       "      <td>POINT (-97.2515 21.50915)</td>\n",
       "      <td>-97.251505</td>\n",
       "      <td>21.509150</td>\n",
       "    </tr>\n",
       "    <tr>\n",
       "      <th>859103</th>\n",
       "      <td>Coral/Algae</td>\n",
       "      <td>POLYGON ((-97.25404 21.51824, -97.25386 21.518...</td>\n",
       "      <td>POINT (-97.25262 21.51514)</td>\n",
       "      <td>-97.252618</td>\n",
       "      <td>21.515141</td>\n",
       "    </tr>\n",
       "  </tbody>\n",
       "</table>\n",
       "<p>859104 rows × 5 columns</p>\n",
       "</div>"
      ],
      "text/plain": [
       "              class                                           geometry  \\\n",
       "0       Coral/Algae  POLYGON ((-86.80897 20.97881, -86.80892 20.978...   \n",
       "1            Rubble  POLYGON ((-86.80739 20.97845, -86.80735 20.978...   \n",
       "2            Rubble  POLYGON ((-86.80874 20.97912, -86.80874 20.979...   \n",
       "3            Rubble  POLYGON ((-86.81004 20.97831, -86.80996 20.978...   \n",
       "4            Rubble  POLYGON ((-86.81094 20.97791, -86.81085 20.977...   \n",
       "...             ...                                                ...   \n",
       "859099     Seagrass  POLYGON ((-97.25076 21.50746, -97.25071 21.507...   \n",
       "859100     Seagrass  POLYGON ((-97.25206 21.50728, -97.25193 21.507...   \n",
       "859101       Rubble  POLYGON ((-97.25211 21.50688, -97.25197 21.506...   \n",
       "859102  Coral/Algae  POLYGON ((-97.24955 21.51227, -97.24955 21.512...   \n",
       "859103  Coral/Algae  POLYGON ((-97.25404 21.51824, -97.25386 21.518...   \n",
       "\n",
       "                   centroid_column       long        lat  \n",
       "0       POINT (-86.80888 20.97867) -86.808880  20.978671  \n",
       "1       POINT (-86.80737 20.97842) -86.807372  20.978424  \n",
       "2       POINT (-86.80884 20.97868) -86.808843  20.978677  \n",
       "3       POINT (-86.80993 20.97817) -86.809931  20.978174  \n",
       "4       POINT (-86.81091 20.97784) -86.810908  20.977840  \n",
       "...                            ...        ...        ...  \n",
       "859099  POINT (-97.25074 21.50744) -97.250737  21.507442  \n",
       "859100  POINT (-97.25185 21.50704) -97.251850  21.507038  \n",
       "859101  POINT (-97.25198 21.50674) -97.251982  21.506739  \n",
       "859102   POINT (-97.2515 21.50915) -97.251505  21.509150  \n",
       "859103  POINT (-97.25262 21.51514) -97.252618  21.515141  \n",
       "\n",
       "[859104 rows x 5 columns]"
      ]
     },
     "execution_count": 5,
     "metadata": {},
     "output_type": "execute_result"
    }
   ],
   "source": [
    "allen_coral_df['long'] = allen_coral_df['centroid_column'].x\n",
    "allen_coral_df['lat'] = allen_coral_df['centroid_column'].y\n",
    "allen_coral_df"
   ]
  },
  {
   "cell_type": "markdown",
   "id": "8c2c1431",
   "metadata": {},
   "source": [
    "Function to create a subsample of data points from the allen coral atlas. The coral/algae and non-coral classes will be equally represented."
   ]
  },
  {
   "cell_type": "code",
   "execution_count": 6,
   "id": "04453ed6",
   "metadata": {},
   "outputs": [],
   "source": [
    "def getAllenCoralSample(allen_df, numSamples):\n",
    "    # Rename all Non-Coral classes\n",
    "    allen_df.loc[allen_df[\"class\"] == \"Rubble\", \"class\"] = 'Non-Coral'\n",
    "    allen_df.loc[allen_df[\"class\"] == \"Rock\", \"class\"] = 'Non-Coral'\n",
    "    allen_df.loc[allen_df[\"class\"] == \"Sand\", \"class\"] = 'Non-Coral'\n",
    "    allen_df.loc[allen_df[\"class\"] == \"Microalgal Mats\", \"class\"] = 'Non-Coral'\n",
    "    allen_df.loc[allen_df[\"class\"] == \"Seagrass\", \"class\"] = 'Non-Coral'\n",
    "    \n",
    "    # Sample Coral/Algae and Non-Coral classes equally\n",
    "    allen_sample = allen_df.groupby('class').apply(lambda x: x.sample(numSamples))\n",
    "    \n",
    "    return allen_sample"
   ]
  },
  {
   "cell_type": "code",
   "execution_count": 7,
   "id": "7fc3a2e2",
   "metadata": {},
   "outputs": [
    {
     "name": "stderr",
     "output_type": "stream",
     "text": [
      "C:\\Users\\Danielle\\AppData\\Local\\Temp\\ipykernel_44624\\3860211343.py:10: DeprecationWarning: DataFrameGroupBy.apply operated on the grouping columns. This behavior is deprecated, and in a future version of pandas the grouping columns will be excluded from the operation. Either pass `include_groups=False` to exclude the groupings or explicitly select the grouping columns after groupby to silence this warning.\n",
      "  allen_sample = allen_df.groupby('class').apply(lambda x: x.sample(numSamples))\n"
     ]
    }
   ],
   "source": [
    "allen_sample = getAllenCoralSample(allen_coral_df, 25000)"
   ]
  },
  {
   "cell_type": "code",
   "execution_count": 9,
   "id": "ef864eed",
   "metadata": {},
   "outputs": [
    {
     "data": {
      "text/plain": [
       "class\n",
       "Coral/Algae    25000\n",
       "Non-Coral      25000\n",
       "Name: count, dtype: int64"
      ]
     },
     "execution_count": 9,
     "metadata": {},
     "output_type": "execute_result"
    }
   ],
   "source": [
    "allen_sample['class'].value_counts()"
   ]
  },
  {
   "cell_type": "code",
   "execution_count": 10,
   "id": "77ade38d",
   "metadata": {},
   "outputs": [],
   "source": [
    "allen_sample.to_pickle('C:/Users/Danielle/Desktop/nasa-coral-health-observation/data/mesoamerica_subset.pkl')"
   ]
  },
  {
   "cell_type": "code",
   "execution_count": null,
   "id": "c8eb0451-811e-4a45-8840-22dac0d7da69",
   "metadata": {},
   "outputs": [],
   "source": []
  }
 ],
 "metadata": {
  "kernelspec": {
   "display_name": "Python [conda env:base]",
   "language": "python",
   "name": "conda-base-py"
  },
  "language_info": {
   "codemirror_mode": {
    "name": "ipython",
    "version": 3
   },
   "file_extension": ".py",
   "mimetype": "text/x-python",
   "name": "python",
   "nbconvert_exporter": "python",
   "pygments_lexer": "ipython3",
   "version": "3.10.14"
  },
  "toc": {
   "base_numbering": 1,
   "nav_menu": {},
   "number_sections": true,
   "sideBar": true,
   "skip_h1_title": false,
   "title_cell": "Table of Contents",
   "title_sidebar": "Contents",
   "toc_cell": false,
   "toc_position": {},
   "toc_section_display": true,
   "toc_window_display": false
  },
  "vscode": {
   "interpreter": {
    "hash": "7d8cf412c429d163f0ec8962de5d99a5f7520d1b1380235674c38dc96da666cc"
   }
  }
 },
 "nbformat": 4,
 "nbformat_minor": 5
}
